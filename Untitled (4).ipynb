{
  "cells": [
    {
      "cell_type": "code",
      "source": [
        "pip install apscheduler\n"
      ],
      "metadata": {
        "colab": {
          "base_uri": "https://localhost:8080/"
        },
        "id": "kCTeEJwExNvK",
        "outputId": "0047c2b7-c3a7-411e-f7ad-e25d2d25398c"
      },
      "execution_count": 31,
      "outputs": [
        {
          "output_type": "stream",
          "name": "stdout",
          "text": [
            "Collecting apscheduler\n",
            "  Downloading APScheduler-3.10.4-py3-none-any.whl.metadata (5.7 kB)\n",
            "Requirement already satisfied: six>=1.4.0 in /usr/local/lib/python3.10/dist-packages (from apscheduler) (1.16.0)\n",
            "Requirement already satisfied: pytz in /usr/local/lib/python3.10/dist-packages (from apscheduler) (2024.2)\n",
            "Requirement already satisfied: tzlocal!=3.*,>=2.0 in /usr/local/lib/python3.10/dist-packages (from apscheduler) (5.2)\n",
            "Downloading APScheduler-3.10.4-py3-none-any.whl (59 kB)\n",
            "\u001b[2K   \u001b[90m━━━━━━━━━━━━━━━━━━━━━━━━━━━━━━━━━━━━━━━━\u001b[0m \u001b[32m59.3/59.3 kB\u001b[0m \u001b[31m2.5 MB/s\u001b[0m eta \u001b[36m0:00:00\u001b[0m\n",
            "\u001b[?25hInstalling collected packages: apscheduler\n",
            "Successfully installed apscheduler-3.10.4\n"
          ]
        }
      ]
    },
    {
      "cell_type": "code",
      "source": [
        "import asyncio\n",
        "from apscheduler.schedulers.asyncio import AsyncIOScheduler\n",
        "from telegram import Update, InlineKeyboardButton, InlineKeyboardMarkup\n",
        "from telegram.ext import ApplicationBuilder, CommandHandler, CallbackQueryHandler, ContextTypes\n",
        "\n",
        "# Хранение состояния пользователей и истории сообщений\n",
        "user_states = {}\n",
        "\n",
        "# Функция для планирования рекламы\n",
        "async def schedule_advertisement(context):\n",
        "    while True:\n",
        "        await asyncio.sleep(604800)  # 604800 секунд = 1 неделя\n",
        "        for user_id, state in user_states.items():\n",
        "            if state.get('found_pet') or state.get('adopted_pet'):\n",
        "                await context.bot.send_message(\n",
        "                    chat_id=user_id,\n",
        "                    text=\"Не пропустите нашу акцию на корма для питомцев и ветеринарные услуги!\"\n",
        "                )\n",
        "\n",
        "# Функция для обновления состояния пользователя\n",
        "async def update_pet_status(user_id, found_pet=None, adopted_pet=None):\n",
        "    if user_id not in user_states:\n",
        "        user_states[user_id] = {'found_pet': False, 'adopted_pet': False, 'history': []}\n",
        "\n",
        "    if found_pet is not None:\n",
        "        user_states[user_id]['found_pet'] = found_pet\n",
        "        message = \"Пользователь сообщил, что питомец найден.\"\n",
        "        user_states[user_id]['history'].append(message)\n",
        "\n",
        "    if adopted_pet is not None:\n",
        "        user_states[user_id]['adopted_pet'] = adopted_pet\n",
        "        message = \"Пользователь сообщил, что питомец был усыновлен.\"\n",
        "        user_states[user_id]['history'].append(message)\n",
        "\n",
        "# Функция для отображения истории\n",
        "async def show_history(update: Update):\n",
        "    user_id = update.message.chat.id\n",
        "    if user_id in user_states and user_states[user_id]['history']:\n",
        "        history = \"\\n\".join(user_states[user_id]['history'])\n",
        "        await update.message.reply_text(f\"История вашего взаимодействия:\\n{history}\")\n",
        "    else:\n",
        "        await update.message.reply_text(\"История пуста.\")\n",
        "\n",
        "# Функция для начала работы бота\n",
        "async def start(update: Update, context: ContextTypes.DEFAULT_TYPE) -> None:\n",
        "    user_id = update.message.chat.id\n",
        "    await update_pet_status(user_id)  # Обновляем статус пользователя\n",
        "    await update.message.reply_text(\n",
        "        \"Добро пожаловать! Если вы нашли своего питомца или усыновили его, просто напишите об этом!\"\n",
        "    )\n",
        "\n",
        "# Команда для установки состояния, что питомец найден\n",
        "async def found_pet(update: Update, context: ContextTypes.DEFAULT_TYPE) -> None:\n",
        "    user_id = update.message.chat.id\n",
        "    await update_pet_status(user_id, found_pet=True)\n",
        "\n",
        "    keyboard = [\n",
        "        [\n",
        "            InlineKeyboardButton(\"Спасибо! Питомец был найден\", callback_data='pet_found'),\n",
        "            InlineKeyboardButton(\"Не нашелся(\", callback_data='pet_not_found'),\n",
        "        ]\n",
        "    ]\n",
        "    reply_markup = InlineKeyboardMarkup(keyboard)\n",
        "\n",
        "    await update.message.reply_text(\"Пожалуйста, подтвердите статус вашего питомца:\", reply_markup=reply_markup)\n",
        "\n",
        "# Обработчик для кнопки \"Спасибо! Питомец был найден\"\n",
        "async def pet_found_callback(update: Update, context: ContextTypes.DEFAULT_TYPE):\n",
        "    user_id = update.callback_query.from_user.id\n",
        "    await update_pet_status(user_id, found_pet=True)\n",
        "    await update.callback_query.answer(\"Спасибо за информацию!\")\n",
        "    await show_history(update.callback_query)\n",
        "\n",
        "# Обработчик для кнопки \"Не нашелся(\"\n",
        "async def pet_not_found_callback(update: Update, context: ContextTypes.DEFAULT_TYPE):\n",
        "    user_id = update.callback_query.from_user.id\n",
        "    await update_pet_status(user_id, found_pet=False)\n",
        "    await update.callback_query.answer(\"Мы надеемся, что вы найдете своего питомца.\")\n",
        "    await show_history(update.callback_query)\n",
        "\n",
        "# Команда для установки состояния, что питомец был усыновлен\n",
        "async def adopted_pet(update: Update, context: ContextTypes.DEFAULT_TYPE) -> None:\n",
        "    user_id = update.message.chat.id\n",
        "    await update_pet_status(user_id, adopted_pet=True)\n",
        "    await update.message.reply_text(\"Поздравляем! Мы зафиксировали, что вы усыновили питомца.\")\n",
        "    await show_history(update)  # Отображаем историю после обновления статуса\n",
        "\n",
        "# Функция для инициализации бота\n",
        "def main():\n",
        "    # Создаем приложение бота\n",
        "    application = ApplicationBuilder().token(\"7358139930:AAFXjmDNz0lyAkwQVHhxSTW3-55lhtVib-8\").build()\n",
        "\n",
        "    # Регистрация обработчиков команд\n",
        "    application.add_handler(CommandHandler(\"start\", start))\n",
        "    application.add_handler(CommandHandler(\"found_pet\", found_pet))\n",
        "    application.add_handler(CommandHandler(\"adopted_pet\", adopted_pet))\n",
        "    application.add_handler(CommandHandler(\"history\", show_history))  # Команда для просмотра истории\n",
        "    application.add_handler(CallbackQueryHandler(pet_found_callback, pattern='pet_found'))\n",
        "    application.add_handler(CallbackQueryHandler(pet_not_found_callback, pattern='pet_not_found'))\n",
        "\n",
        "    # Запуск планировщика\n",
        "    start_advertisement_scheduler(application)\n",
        "\n",
        "    # Запуск бота\n",
        "    application.run_polling()\n",
        "\n",
        "if __name__ == \"__main__\":\n",
        "    main()\n"
      ],
      "metadata": {
        "id": "egRHGlmZzhdK"
      },
      "execution_count": null,
      "outputs": []
    }
  ],
  "metadata": {
    "colab": {
      "provenance": []
    },
    "kernelspec": {
      "display_name": "Python 3",
      "name": "python3"
    },
    "language_info": {
      "name": "python"
    }
  },
  "nbformat": 4,
  "nbformat_minor": 0
}